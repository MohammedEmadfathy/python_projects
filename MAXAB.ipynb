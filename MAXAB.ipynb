{
 "cells": [
  {
   "cell_type": "code",
   "execution_count": 1,
   "id": "e2720a2e",
   "metadata": {},
   "outputs": [
    {
     "name": "stdout",
     "output_type": "stream",
     "text": [
      "Orders Data:\n",
      "   ORDER_ID          CREATED_AT           NMV  SALES_STATUS_ID  \\\n",
      "0   5275311 2023-07-28 06:30:42  15824.500000                6   \n",
      "1   5211037 2023-07-18 04:57:33   9436.000000                6   \n",
      "2   5483299 2023-08-27 03:55:31  11766.083333                6   \n",
      "3   5691171 2023-09-26 04:23:49  10018.500000                6   \n",
      "4   5738195 2023-10-04 00:23:16   4982.500000                6   \n",
      "\n",
      "            RETAILER_ID        day  \n",
      "0  JlkbkCvjnCFHchhKDGLz 2023-07-28  \n",
      "1  JlkbkCvjnCFHchhKDGLz 2023-07-18  \n",
      "2  JlkbkCvjnCFHchhKDGLz 2023-08-27  \n",
      "3  JlkbkCvjnCFHchhKDGLz 2023-09-26  \n",
      "4  JlkbkCvjnCFHchhKDGLz 2023-10-04  \n",
      "\n",
      "Visits Data:\n",
      "   VISIT_ID          CREATED_AT  AGENT_ID           RETAILER_ID        Day\n",
      "0   2606224 2023-09-14 14:11:57       631  qfEP18Ergf5J5rlRHZD0 2023-09-14\n",
      "1   2606328 2023-09-14 14:31:23       631  r7LdHSMZ7TwEhdEcyhgq 2023-09-14\n",
      "2   2606385 2023-09-14 14:40:58       631  qEFmNkcjtOYq05XraREp 2023-09-14\n",
      "3   2606470 2023-09-14 14:55:05       631  yuByoSyVWnzmTJQWhn6N 2023-09-14\n",
      "4   2606572 2023-09-14 15:15:48       631  H9sNJQktFseZsaDcns0L 2023-09-14\n"
     ]
    }
   ],
   "source": [
    "import pandas as pd\n",
    "\n",
    "orders_df = pd.read_excel('Orders 1.xlsx')\n",
    "visits_df = pd.read_excel('Visits 1.xlsx')\n",
    "\n",
    "print(\"Orders Data:\")\n",
    "print(orders_df.head())\n",
    "\n",
    "print(\"\\nVisits Data:\")\n",
    "print(visits_df.head())\n"
   ]
  },
  {
   "cell_type": "code",
   "execution_count": 3,
   "id": "4fa73739",
   "metadata": {},
   "outputs": [
    {
     "name": "stdout",
     "output_type": "stream",
     "text": [
      "ORDER_ID           0\n",
      "CREATED_AT         0\n",
      "NMV                0\n",
      "SALES_STATUS_ID    0\n",
      "RETAILER_ID        0\n",
      "day                0\n",
      "dtype: int64\n",
      "VISIT_ID       0\n",
      "CREATED_AT     0\n",
      "AGENT_ID       0\n",
      "RETAILER_ID    0\n",
      "Day            0\n",
      "dtype: int64\n"
     ]
    }
   ],
   "source": [
    "# Convert 'Created at' columns to datetime\n",
    "orders_df['CREATED_AT'] = pd.to_datetime(orders_df['CREATED_AT'])\n",
    "visits_df['CREATED_AT'] = pd.to_datetime(visits_df['CREATED_AT'])\n",
    "\n",
    "# Check for missing values\n",
    "print(orders_df.isnull().sum())\n",
    "print(visits_df.isnull().sum())\n"
   ]
  },
  {
   "cell_type": "code",
   "execution_count": 8,
   "id": "770776fa",
   "metadata": {},
   "outputs": [
    {
     "name": "stdout",
     "output_type": "stream",
     "text": [
      "    AGENT_ID  Total_Orders\n",
      "0        631             5\n",
      "1        732            14\n",
      "2        752           674\n",
      "3        777            11\n",
      "4        782           168\n",
      "..       ...           ...\n",
      "56      3239            27\n",
      "57      3265             6\n",
      "58      3266            48\n",
      "59      3271            11\n",
      "60      3274            15\n",
      "\n",
      "[61 rows x 2 columns]\n"
     ]
    }
   ],
   "source": [
    "#Question 1: Orders Placed by Each Agent\n",
    "# Merge visits and orders on Retailer ID and Date\n",
    "merged_df = pd.merge(visits_df, orders_df, on=['RETAILER_ID'], suffixes=('_visit', '_order'))\n",
    "\n",
    "# Filter orders that happened on the same day as visits\n",
    "same_day_orders = merged_df[merged_df['CREATED_AT_visit'].dt.date == merged_df['CREATED_AT_order'].dt.date]\n",
    "\n",
    "# Calculate the number of orders per agent\n",
    "orders_per_agent = same_day_orders.groupby('AGENT_ID')['ORDER_ID'].nunique().reset_index()\n",
    "orders_per_agent.columns = ['AGENT_ID', 'Total_Orders']\n",
    "print(orders_per_agent)\n"
   ]
  },
  {
   "cell_type": "code",
   "execution_count": 10,
   "id": "731c8f8e",
   "metadata": {},
   "outputs": [
    {
     "name": "stdout",
     "output_type": "stream",
     "text": [
      "    AGENT_ID  Total_Orders  Total_Visits  Strike_Rate\n",
      "0        631             5             9     0.555556\n",
      "1        732            14            18     0.777778\n",
      "2        752           674          1549     0.435119\n",
      "3        777            11            22     0.500000\n",
      "4        782           168           444     0.378378\n",
      "..       ...           ...           ...          ...\n",
      "56      3239            27            47     0.574468\n",
      "57      3265             6            52     0.115385\n",
      "58      3266            48           137     0.350365\n",
      "59      3271            11            44     0.250000\n",
      "60      3274            15            29     0.517241\n",
      "\n",
      "[61 rows x 4 columns]\n"
     ]
    }
   ],
   "source": [
    "#Question 2: Strike Rate Per Agent\n",
    "visits_per_agent = visits_df.groupby('AGENT_ID')['VISIT_ID'].nunique().reset_index()\n",
    "visits_per_agent.columns = ['AGENT_ID', 'Total_Visits']\n",
    "\n",
    "strike_rate = pd.merge(orders_per_agent, visits_per_agent, on='AGENT_ID')\n",
    "strike_rate['Strike_Rate'] = strike_rate['Total_Orders'] / strike_rate['Total_Visits']\n",
    "print(strike_rate)\n"
   ]
  },
  {
   "cell_type": "code",
   "execution_count": 11,
   "id": "4e7f3024",
   "metadata": {},
   "outputs": [
    {
     "name": "stdout",
     "output_type": "stream",
     "text": [
      "    AGENT_ID  Average_Ticket_Size\n",
      "0        631          3024.950000\n",
      "1        732          1185.250000\n",
      "2        752          1727.040931\n",
      "3        777          1517.090909\n",
      "4        782          2572.177370\n",
      "..       ...                  ...\n",
      "56      3239          1547.324074\n",
      "57      3265          1642.791667\n",
      "58      3266          1657.439796\n",
      "59      3271          2201.090909\n",
      "60      3274          1277.116667\n",
      "\n",
      "[61 rows x 2 columns]\n"
     ]
    }
   ],
   "source": [
    "#Question 3: Average Ticket Size Per Agent\n",
    "\n",
    "ticket_size_per_agent = same_day_orders.groupby('AGENT_ID')['NMV'].mean().reset_index()\n",
    "ticket_size_per_agent.columns = ['AGENT_ID', 'Average_Ticket_Size']\n",
    "print(ticket_size_per_agent)\n"
   ]
  },
  {
   "cell_type": "code",
   "execution_count": 12,
   "id": "f2c6ed70",
   "metadata": {},
   "outputs": [
    {
     "name": "stdout",
     "output_type": "stream",
     "text": [
      "           Date  Organic_Activations\n",
      "0    2023-07-03                  804\n",
      "1    2023-07-04                  768\n",
      "2    2023-07-02                  750\n",
      "3    2023-07-01                  697\n",
      "4    2023-07-05                  594\n",
      "..          ...                  ...\n",
      "99   2023-08-11                   11\n",
      "100  2023-09-01                   11\n",
      "101  2023-10-06                    9\n",
      "102  2023-09-15                    9\n",
      "103  2023-10-05                    6\n",
      "\n",
      "[104 rows x 2 columns]\n",
      "         Date  Inorganic_Activations\n",
      "0  2023-09-16                      1\n",
      "1  2023-07-10                      1\n",
      "2  2023-07-25                      1\n",
      "3  2023-07-19                      1\n"
     ]
    }
   ],
   "source": [
    "#Question 4: Organic vs. Inorganic Activations\n",
    "\n",
    "first_orders = orders_df.groupby('RETAILER_ID')['CREATED_AT'].min().reset_index()\n",
    "first_orders.columns = ['RETAILER_ID', 'First_Order_Date']\n",
    "\n",
    "inorganic = pd.merge(first_orders, visits_df, left_on=['RETAILER_ID', 'First_Order_Date'], right_on=['RETAILER_ID', 'CREATED_AT'])\n",
    "\n",
    "organic = first_orders[~first_orders['RETAILER_ID'].isin(inorganic['RETAILER_ID'])]\n",
    "\n",
    "organic_count = organic['First_Order_Date'].dt.date.value_counts().reset_index()\n",
    "organic_count.columns = ['Date', 'Organic_Activations']\n",
    "\n",
    "inorganic_count = inorganic['First_Order_Date'].dt.date.value_counts().reset_index()\n",
    "inorganic_count.columns = ['Date', 'Inorganic_Activations']\n",
    "\n",
    "print(organic_count)\n",
    "print(inorganic_count)\n"
   ]
  },
  {
   "cell_type": "code",
   "execution_count": 15,
   "id": "76d75968",
   "metadata": {},
   "outputs": [
    {
     "name": "stdout",
     "output_type": "stream",
     "text": [
      "  Order_Month  Total_Retailers  Retained_Retailers  Retention_Rate\n",
      "0     2023-07             8711              7050.0       80.932155\n",
      "1     2023-08             8731              6963.0       79.750315\n",
      "2     2023-09             8574              4375.0       51.026359\n",
      "3     2023-10             5003                 0.0        0.000000\n"
     ]
    }
   ],
   "source": [
    "#Question 5: Calculate Retention Rate Per Month\n",
    "\n",
    "orders_df['Order_Month'] = orders_df['CREATED_AT'].dt.to_period('M')\n",
    "\n",
    "monthly_orders = orders_df.groupby(['RETAILER_ID', 'Order_Month']).size().reset_index(name='Order_Count')\n",
    "\n",
    "monthly_orders['Next_Month'] = monthly_orders['Order_Month'] + 1\n",
    "retained = pd.merge(monthly_orders, monthly_orders, left_on=['RETAILER_ID', 'Next_Month'], right_on=['RETAILER_ID', 'Order_Month'])\n",
    "retained = retained.groupby('Order_Month_x').size().reset_index(name='Retained_Retailers')\n",
    "retained['Order_Month'] = retained['Order_Month_x'].astype(str)\n",
    "retained = retained.drop(columns=['Order_Month_x'])\n",
    "\n",
    "total_retailers = monthly_orders.groupby('Order_Month')['RETAILER_ID'].nunique().reset_index(name='Total_Retailers')\n",
    "total_retailers['Order_Month'] = total_retailers['Order_Month'].astype(str)\n",
    "\n",
    "retention = pd.merge(total_retailers, retained, on='Order_Month', how='left').fillna(0)\n",
    "retention['Retention_Rate'] = (retention['Retained_Retailers'] / retention['Total_Retailers']) * 100\n",
    "\n",
    "print(retention)\n"
   ]
  },
  {
   "cell_type": "code",
   "execution_count": 16,
   "id": "62f2f514",
   "metadata": {},
   "outputs": [
    {
     "name": "stdout",
     "output_type": "stream",
     "text": [
      "                RETAILER_ID       NMV Segment\n",
      "0      00HQ6W34DdXawhOi8uoG  16498.75    High\n",
      "1      018X9rzASd56jVUGTQEL  20982.75    High\n",
      "2      01zQ3UJEsVJwhOOgC04B   1210.00  Medium\n",
      "3      0218m8gj8hI5LVesP4v7  25181.61    High\n",
      "4      02c246Mp7um3Bm8u4iAC   1585.80  Medium\n",
      "...                     ...       ...     ...\n",
      "11592  zyMtSJoB7R0aR9KOtnHA  17262.51    High\n",
      "11593  zz6ugf6iQiEtCneMHEsb   2930.75  Medium\n",
      "11594  zzLurtu5ZbWufIMS5z0x  18845.25    High\n",
      "11595  zzjkocIGyYh8vH87YKkv   9505.25    High\n",
      "11596  zzoEOUbaI3PH4MroJmch   3626.00  Medium\n",
      "\n",
      "[11597 rows x 3 columns]\n"
     ]
    }
   ],
   "source": [
    "#question 6 : Segment Retailers Based on NMV\n",
    "\n",
    "total_nmv = orders_df.groupby('RETAILER_ID')['NMV'].sum().reset_index()\n",
    "\n",
    "low_threshold = 1000\n",
    "high_threshold = 5000\n",
    "\n",
    "total_nmv['Segment'] = pd.cut(total_nmv['NMV'], bins=[-1, low_threshold, high_threshold, float('inf')], \n",
    "                               labels=['Low', 'Medium', 'High'])\n",
    "print(total_nmv)\n"
   ]
  },
  {
   "cell_type": "code",
   "execution_count": 17,
   "id": "c1ef02ea",
   "metadata": {},
   "outputs": [
    {
     "name": "stdout",
     "output_type": "stream",
     "text": [
      "    AGENT_ID  Avg_Days_Between_Visits\n",
      "0        631                 1.250000\n",
      "1        732                 2.411765\n",
      "2        752                 0.022610\n",
      "3        777                 0.047619\n",
      "4        778                 0.000000\n",
      "..       ...                      ...\n",
      "61      3239                 0.021739\n",
      "62      3265                 0.039216\n",
      "63      3266                 0.014706\n",
      "64      3271                 0.000000\n",
      "65      3274                 0.035714\n",
      "\n",
      "[66 rows x 2 columns]\n"
     ]
    }
   ],
   "source": [
    "#question 7: Calculate Time Between Visits Per Agent\n",
    "\n",
    "visits_df = visits_df.sort_values(by=['AGENT_ID', 'CREATED_AT'])\n",
    "\n",
    "visits_df['Time_Diff'] = visits_df.groupby('AGENT_ID')['CREATED_AT'].diff().dt.days\n",
    "\n",
    "avg_time_between_visits = visits_df.groupby('AGENT_ID')['Time_Diff'].mean().reset_index()\n",
    "avg_time_between_visits.columns = ['AGENT_ID', 'Avg_Days_Between_Visits']\n",
    "\n",
    "print(avg_time_between_visits)\n",
    "\n"
   ]
  },
  {
   "cell_type": "code",
   "execution_count": 18,
   "id": "f95cf61b",
   "metadata": {},
   "outputs": [
    {
     "name": "stdout",
     "output_type": "stream",
     "text": [
      "Potential_Anomalies:\n",
      "       ORDER_ID          CREATED_AT       NMV  SALES_STATUS_ID  \\\n",
      "0       5275311 2023-07-28 06:30:42  15824.50                6   \n",
      "223     5682794 2023-09-25 00:08:08  49012.50                6   \n",
      "224     5689837 2023-09-25 23:06:52  16639.50                6   \n",
      "225     5288780 2023-07-30 17:17:13  16947.50                6   \n",
      "227     5261563 2023-07-26 01:43:24  15588.00                6   \n",
      "...         ...                 ...       ...              ...   \n",
      "88728   5487855 2023-08-27 20:37:29  17291.50                7   \n",
      "89075   5656772 2023-09-20 21:39:30  43500.00                6   \n",
      "89111   5390585 2023-08-14 00:49:25  21627.00                6   \n",
      "89114   5437240 2023-08-20 16:51:26  30830.00               12   \n",
      "89146   5523958 2023-09-02 14:47:47  21258.75                6   \n",
      "\n",
      "                RETAILER_ID        day Order_Month  NMV_zscore  \n",
      "0      JlkbkCvjnCFHchhKDGLz 2023-07-28     2023-07    3.228872  \n",
      "223    9JfELs5zmjQNwh7rQADt 2023-09-25     2023-09   11.643514  \n",
      "224    9JfELs5zmjQNwh7rQADt 2023-09-25     2023-09    3.435511  \n",
      "225    9JfELs5zmjQNwh7rQADt 2023-07-30     2023-07    3.513603  \n",
      "227    9JfELs5zmjQNwh7rQADt 2023-07-26     2023-07    3.168909  \n",
      "...                     ...        ...         ...         ...  \n",
      "88728  PJ62CUaB8sfdGdNQ8eaE 2023-08-27     2023-08    3.600822  \n",
      "89075  0OOaI4SGTB4SfgkXxGbt 2023-09-20     2023-09   10.245849  \n",
      "89111  zuPyl9mhLmLNjVaevUUd 2023-08-14     2023-08    4.700065  \n",
      "89114  NfCK9S97IzxmlPMx27JB 2023-08-20     2023-08    7.033437  \n",
      "89146  Q3RODPbH5HhYIQ8m8jfS 2023-09-02     2023-09    4.606697  \n",
      "\n",
      "[1863 rows x 8 columns]\n"
     ]
    }
   ],
   "source": [
    "#question 8: Identify Anomalies or Unusual Patterns\n",
    "from scipy import stats\n",
    "\n",
    "orders_df['NMV_zscore'] = stats.zscore(orders_df['NMV'])\n",
    "outliers = orders_df[orders_df['NMV_zscore'].abs() > 3]  # Consider z-scores > 3 as outliers\n",
    "\n",
    "print(\"Potential_Anomalies:\")\n",
    "print(outliers)\n",
    "\n"
   ]
  },
  {
   "cell_type": "code",
   "execution_count": 20,
   "id": "9e227e9b",
   "metadata": {},
   "outputs": [
    {
     "name": "stdout",
     "output_type": "stream",
     "text": [
      "Top_Agents_Encouraging_Future_Orders:\n",
      "    AGENT_ID  Future_Orders_Count\n",
      "29      2352                 2875\n",
      "6        805                 2667\n",
      "16      1168                 2631\n",
      "37      2914                 2125\n",
      "26      1754                 2104\n",
      "..       ...                  ...\n",
      "7        848                   19\n",
      "4        778                   16\n",
      "27      1837                    7\n",
      "22      1405                    3\n",
      "52      3219                    1\n",
      "\n",
      "[63 rows x 2 columns]\n"
     ]
    }
   ],
   "source": [
    "#question 9 : Top Agents Encouraging Future Orders\n",
    "\n",
    "future_orders = orders_df[orders_df['CREATED_AT'] > orders_df.groupby('RETAILER_ID')['CREATED_AT'].transform('min')]\n",
    "future_orders_count = future_orders[future_orders['RETAILER_ID'].isin(visits_df['RETAILER_ID'])].groupby('RETAILER_ID').size().reset_index(name='Future_Orders_Count')\n",
    "top_agents = pd.merge(visits_df[['RETAILER_ID', 'AGENT_ID']].drop_duplicates(), future_orders_count, on='RETAILER_ID')\n",
    "top_agents = top_agents.groupby('AGENT_ID')['Future_Orders_Count'].sum().reset_index().sort_values(by='Future_Orders_Count', ascending=False)\n",
    "\n",
    "print(\"Top_Agents_Encouraging_Future_Orders:\")\n",
    "print(top_agents)\n",
    "\n"
   ]
  },
  {
   "cell_type": "code",
   "execution_count": 22,
   "id": "62ec8d3c",
   "metadata": {},
   "outputs": [
    {
     "name": "stdout",
     "output_type": "stream",
     "text": [
      "Agent_Performance:\n",
      "    AGENT_ID  Total_Orders  Total_Visits  Strike_Rate  Average_Ticket_Size  \\\n",
      "29      2787             3            53     0.056604          1029.416667   \n",
      "59      3271            11            44     0.250000          2201.090909   \n",
      "54      3237             3            19     0.157895          1391.750000   \n",
      "48      3211            18            50     0.360000          1411.842105   \n",
      "46      3203             1            12     0.083333           935.000000   \n",
      "..       ...           ...           ...          ...                  ...   \n",
      "20      1390            48           123     0.390244          1231.753698   \n",
      "60      3274            15            29     0.517241          1277.116667   \n",
      "1        732            14            18     0.777778          1185.250000   \n",
      "25      1837             2             1     2.000000          4495.000000   \n",
      "26      1892             1             1     1.000000          3045.000000   \n",
      "\n",
      "    Avg_Days_Between_Visits  Performance_Score  \n",
      "29                 0.000000                inf  \n",
      "59                 0.000000                inf  \n",
      "54                 0.000000                inf  \n",
      "48                 0.000000                inf  \n",
      "46                 0.000000                inf  \n",
      "..                      ...                ...  \n",
      "20                 0.008197         406.282207  \n",
      "60                 0.035714         391.741897  \n",
      "1                  2.411765         356.010501  \n",
      "25                      NaN                NaN  \n",
      "26                      NaN                NaN  \n",
      "\n",
      "[61 rows x 7 columns]\n"
     ]
    }
   ],
   "source": [
    "#question 10 : Develop a Metric to Assess Agents’ Performance\n",
    "agent_performance = pd.merge(strike_rate, ticket_size_per_agent, on='AGENT_ID')\n",
    "agent_performance = pd.merge(agent_performance, avg_time_between_visits, on='AGENT_ID')\n",
    "\n",
    "agent_performance['Performance_Score'] = (\n",
    "    agent_performance['Strike_Rate'] * 0.4 +\n",
    "    agent_performance['Average_Ticket_Size'] * 0.3 +\n",
    "    (1 / agent_performance['Avg_Days_Between_Visits']) * 0.3 )\n",
    "\n",
    "agent_performance = agent_performance.sort_values(by='Performance_Score', ascending=False)\n",
    "\n",
    "print(\"Agent_Performance:\")\n",
    "print(agent_performance)\n"
   ]
  },
  {
   "cell_type": "code",
   "execution_count": null,
   "id": "50cb5884",
   "metadata": {},
   "outputs": [],
   "source": []
  }
 ],
 "metadata": {
  "kernelspec": {
   "display_name": "Python 3 (ipykernel)",
   "language": "python",
   "name": "python3"
  },
  "language_info": {
   "codemirror_mode": {
    "name": "ipython",
    "version": 3
   },
   "file_extension": ".py",
   "mimetype": "text/x-python",
   "name": "python",
   "nbconvert_exporter": "python",
   "pygments_lexer": "ipython3",
   "version": "3.11.5"
  }
 },
 "nbformat": 4,
 "nbformat_minor": 5
}
